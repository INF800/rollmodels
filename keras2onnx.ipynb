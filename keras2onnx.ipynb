{
  "nbformat": 4,
  "nbformat_minor": 0,
  "metadata": {
    "accelerator": "GPU",
    "colab": {
      "name": "keras2onnx.ipynb",
      "provenance": [],
      "authorship_tag": "ABX9TyPxPW9nLcIHHwtz4Rh71t1/",
      "include_colab_link": true
    },
    "kernelspec": {
      "display_name": "Python 3",
      "name": "python3"
    }
  },
  "cells": [
    {
      "cell_type": "markdown",
      "metadata": {
        "id": "view-in-github",
        "colab_type": "text"
      },
      "source": [
        "<a href=\"https://colab.research.google.com/github/rakesh4real/rollmodels/blob/main/keras2onnx.ipynb\" target=\"_parent\"><img src=\"https://colab.research.google.com/assets/colab-badge.svg\" alt=\"Open In Colab\"/></a>"
      ]
    },
    {
      "cell_type": "markdown",
      "metadata": {
        "id": "67bo14f6L4XC"
      },
      "source": [
        "# Helper Functions"
      ]
    },
    {
      "cell_type": "code",
      "metadata": {
        "id": "reERZLldLrnQ",
        "outputId": "720eb044-99a8-490e-d6d7-8238580e6d77",
        "colab": {
          "base_uri": "https://localhost:8080/",
          "height": 119
        }
      },
      "source": [
        "# original source: https://github.com/onnx/keras-onnx/tree/master/tutorial\n",
        "# Note: this code is compact and better compared to original\n",
        "\n",
        "\"\"\"\n",
        "## 1. Setup\n",
        "\"\"\"\n",
        "import matplotlib.pyplot as plt\n",
        "import time\n",
        "import seaborn as sns\n",
        "\n",
        "\"\"\"\n",
        "# 2. Random Image\n",
        "\"\"\"\n",
        "def get_and_plot_random_image_from(x_test, y_test):\n",
        "    \"\"\"\n",
        "    \"\"\"\n",
        "    # get a random image index from the test set\n",
        "    image_index = int(np.random.randint(0, x_test.shape[0], size=1)[0])\n",
        "    expected_label = y_test[image_index]\n",
        "    digit_image = x_test[image_index]\n",
        "    # and plot it\n",
        "    plt.title(f'Example {image_index} Label: {expected_label}')\n",
        "    plt.imshow(digit_image.squeeze(2), cmap='Greys')\n",
        "    plt.show()\n",
        "    return digit_image, image_index\n",
        "\n",
        "\"\"\"\n",
        "# 3. Inference w/o onnx\n",
        "\"\"\"\n",
        "def infer_w_raw_h5(digit_image, expected_label, model, input_shape, loop_count=40):\n",
        "    # reshape the image for inference/prediction\n",
        "    #digit_image = digit_image.reshape(1, input_shape[0], input_shape[1], 1)\n",
        "    digit_image = digit_image.reshape(1, input_shape[0], input_shape[1], input_shape[2])\n",
        "\n",
        "    # loop `loop_count` times\n",
        "    start_time = time.time()\n",
        "    for i in range(loop_count):\n",
        "        prediction_probabs = model.predict(digit_image)\n",
        "    avg_time = ((time.time() - start_time) / loop_count)\n",
        "    print(f\"Keras inferences with {avg_time} second in average\")\n",
        "\n",
        "    print(\"=\"*60)\n",
        "    print(\"Prediction probabilities:\")\n",
        "    print(prediction_probabs)\n",
        "    print(\"=\"*60)\n",
        "\n",
        "    predicted_label = prediction_probabs.argmax()\n",
        "    print('Predicted value:', predicted_label)\n",
        "\n",
        "    is_correct_pred = None\n",
        "    if (expected_label.argmax() == predicted_label):\n",
        "      print('Correct prediction')\n",
        "      is_correct_pred = True\n",
        "    else:\n",
        "      print('Wrong prediction')\n",
        "      is_correct_pred = False\n",
        "\n",
        "    # can be used for more control (see suggestio where used)\n",
        "    return (is_correct_pred, prediction_probabs), avg_time\n",
        "\n",
        "\"\"\"\n",
        "# 4. Inference w/ onnx\n",
        "\n",
        "!pip install --quiet -U onnxruntime\n",
        "!pip install --quiet -U git+https://github.com/microsoft/onnxconverter-common\n",
        "!pip install --quiet -U git+https://github.com/onnx/keras-onnx\n",
        "\"\"\"\n",
        "!pip install --quiet -U onnxruntime\n",
        "!pip install --quiet -U git+https://github.com/microsoft/onnxconverter-common\n",
        "!pip install --quiet -U git+https://github.com/onnx/keras-onnx\n",
        "\n",
        "import onnxruntime\n",
        "import keras2onnx\n",
        "\n",
        "def h52onnx(model, output_onnxmodel_path='./onnx_model.onnx'):\n",
        "  print(\"keras2onnx version is \"+keras2onnx.__version__)\n",
        "  save_name = output_onnxmodel_path.split(\".onnx\")[0].split(\"/\")[-1] # get name from path\n",
        "  print(save_name)\n",
        "  # convert to onnx model\n",
        "  onnx_model = keras2onnx.convert_keras(model, save_name, debug_mode=1)\n",
        "  # and save the model in ONNX format\n",
        "  keras2onnx.save_model(onnx_model, output_onnxmodel_path)\n",
        "\n",
        "\n",
        "def generate_data_feed_and_sess(digit_image, input_shape, output_onnxmodel_path):\n",
        "    # reshape the image for inference/prediction\n",
        "    digit_image = digit_image.reshape(1, input_shape[0], input_shape[1], 1)\n",
        "    \n",
        "    # define session (include options using docs if necessary)\n",
        "    sess_options = onnxruntime.SessionOptions()\n",
        "    sess = onnxruntime.InferenceSession(output_onnxmodel_path, sess_options)\n",
        "    # define data\n",
        "    data = [digit_image.astype(np.float32)]\n",
        "    # feed data\n",
        "    input_names = sess.get_inputs()\n",
        "    feed = dict([(input.name, data[n]) for n, input in enumerate(sess.get_inputs())])\n",
        "    return feed, sess\n",
        "    \n",
        "\n",
        "def infer_w_onnx_runtime(digit_image, expected_label,\n",
        "                         input_shape,\n",
        "                         output_onnxmodel_path='./onnx_model.onnx',\n",
        "                         loop_count=40):\n",
        "  # setup\n",
        "  feed, sess = generate_data_feed_and_sess(digit_image, input_shape, output_onnxmodel_path)\n",
        "\n",
        "  # calculate average\n",
        "  start_time = time.time()\n",
        "  for i in range(loop_count):\n",
        "      # note: session is used to make preds\n",
        "      onnx_prediction_probabs = sess.run(None, feed)[0]\n",
        "  avg_time = ((time.time() - start_time) / loop_count)\n",
        "  print(f\"ONNX inferences with {avg_time} second in average\")\n",
        "\n",
        "  # compare w/ raw h5\n",
        "  print(\"=\"*60)\n",
        "  print(\"[onnx]Prediction probabilities:\")\n",
        "  print(onnx_prediction_probabs)\n",
        "  print(\"=\"*60)\n",
        "\n",
        "  is_correct_pred = None\n",
        "  print('ONNX predicted value:', onnx_prediction_probabs.argmax())\n",
        "  if (expected_label.argmax() == onnx_prediction_probabs.argmax()):\n",
        "    print('Correct prediction')\n",
        "    is_correct_pred = True\n",
        "  else:\n",
        "    print('Wrong prediction')\n",
        "    is_correct_pred = False\n",
        "\n",
        "  return (is_correct_pred, onnx_prediction_probabs), avg_time"
      ],
      "execution_count": 1,
      "outputs": [
        {
          "output_type": "stream",
          "text": [
            "\u001b[K     |████████████████████████████████| 3.8MB 2.5MB/s \n",
            "\u001b[K     |████████████████████████████████| 7.4MB 2.4MB/s \n",
            "\u001b[?25h  Building wheel for onnxconverter-common (setup.py) ... \u001b[?25l\u001b[?25hdone\n",
            "\u001b[K     |████████████████████████████████| 81kB 2.1MB/s \n",
            "\u001b[?25h  Building wheel for keras2onnx (setup.py) ... \u001b[?25l\u001b[?25hdone\n",
            "  Building wheel for fire (setup.py) ... \u001b[?25l\u001b[?25hdone\n"
          ],
          "name": "stdout"
        }
      ]
    },
    {
      "cell_type": "markdown",
      "metadata": {
        "id": "vQoS0fs-qoCa"
      },
      "source": [
        "# **Part 1:** Lighter Models"
      ]
    },
    {
      "cell_type": "markdown",
      "metadata": {
        "id": "RiVPGdNYCVRl"
      },
      "source": [
        "# Create Keras .h5 Model\n",
        "\n",
        "- Makes sure input dims is given in first layer"
      ]
    },
    {
      "cell_type": "code",
      "metadata": {
        "id": "Jd80L3VIgmBw"
      },
      "source": [
        "input_shape = (28, 28, 1)\n",
        "\n",
        "# Important while creating keras model, making inference w and w/o keras (onnx)"
      ],
      "execution_count": 2,
      "outputs": []
    },
    {
      "cell_type": "code",
      "metadata": {
        "id": "26E1zR2P_cUX",
        "outputId": "77b390b3-f630-4e06-f74a-c15eb521b2df",
        "colab": {
          "base_uri": "https://localhost:8080/",
          "height": 887
        }
      },
      "source": [
        "\"\"\"\n",
        "## Setup\n",
        "\"\"\"\n",
        "import os\n",
        "import numpy as np\n",
        "from tensorflow import keras\n",
        "from tensorflow.keras import layers\n",
        "import tensorflow\n",
        "print(\"TensorFlow version is \"+tensorflow.__version__)\n",
        "\n",
        "\"\"\"\n",
        "## Prepare the data\n",
        "\"\"\"\n",
        "\n",
        "# Model / data parameters\n",
        "num_classes = 10\n",
        "\n",
        "# the data, split between train and test sets\n",
        "(x_train, y_train), (x_test, y_test) = keras.datasets.mnist.load_data()\n",
        "\n",
        "# Scale images to the [0, 1] range\n",
        "x_train = x_train.astype(\"float32\") / 255\n",
        "x_test = x_test.astype(\"float32\") / 255\n",
        "# Make sure images have shape (28, 28, 1)\n",
        "x_train = np.expand_dims(x_train, -1)\n",
        "x_test = np.expand_dims(x_test, -1)\n",
        "print(\"x_train shape:\", x_train.shape)\n",
        "print(x_train.shape[0], \"train samples\")\n",
        "print(x_test.shape[0], \"test samples\")\n",
        "\n",
        "\n",
        "# convert class vectors to binary class matrices\n",
        "y_train = tensorflow.keras.utils.to_categorical(y_train, num_classes)\n",
        "y_test = tensorflow.keras.utils.to_categorical(y_test, num_classes)\n",
        "\n",
        "\"\"\"\n",
        "## Build the model\n",
        "\"\"\"\n",
        "\n",
        "model = keras.Sequential(\n",
        "    [\n",
        "        keras.Input(shape=input_shape), # !NOTE: input shape must be defined @beg to avoid onnx errors\n",
        "        layers.Conv2D(32, kernel_size=(3, 3), activation=\"relu\"),\n",
        "        layers.MaxPooling2D(pool_size=(2, 2)),\n",
        "        layers.Conv2D(64, kernel_size=(3, 3), activation=\"relu\"),\n",
        "        layers.MaxPooling2D(pool_size=(2, 2)),\n",
        "        layers.Flatten(),\n",
        "        layers.Dropout(0.5),\n",
        "        layers.Dense(num_classes, activation=\"softmax\"),\n",
        "    ]\n",
        ")\n",
        "\n",
        "model.summary()\n",
        "\n",
        "\"\"\"\n",
        "## Train the model\n",
        "\"\"\"\n",
        "\n",
        "os.makedirs(\"keras_saved_model\", exist_ok=True)\n",
        "checkpoint_filepath = 'keras_saved_model/model.h5'\n",
        "model_checkpoint_callback = tensorflow.keras.callbacks.ModelCheckpoint(\n",
        "    filepath=checkpoint_filepath,\n",
        "    save_weights_only=False, # else, error\n",
        "    monitor='val_accuracy',\n",
        "    mode='max',\n",
        "    save_best_only=True)\n",
        "\n",
        "\n",
        "\n",
        "batch_size = 128\n",
        "epochs = 10\n",
        "model.compile(loss=\"categorical_crossentropy\", optimizer=\"adam\", metrics=[\"accuracy\"])\n",
        "model.fit(x_train, y_train, batch_size=batch_size, epochs=epochs, validation_split=0.1, callbacks=[model_checkpoint_callback])\n",
        "\n",
        "\"\"\"\n",
        "## Evaluate the trained model\n",
        "\"\"\"\n",
        "\n",
        "score = model.evaluate(x_test, y_test, verbose=0)\n",
        "print(\"Test loss:\", score[0])\n",
        "print(\"Test accuracy:\", score[1])"
      ],
      "execution_count": 3,
      "outputs": [
        {
          "output_type": "stream",
          "text": [
            "TensorFlow version is 2.3.0\n",
            "Downloading data from https://storage.googleapis.com/tensorflow/tf-keras-datasets/mnist.npz\n",
            "11493376/11490434 [==============================] - 0s 0us/step\n",
            "x_train shape: (60000, 28, 28, 1)\n",
            "60000 train samples\n",
            "10000 test samples\n",
            "Model: \"sequential\"\n",
            "_________________________________________________________________\n",
            "Layer (type)                 Output Shape              Param #   \n",
            "=================================================================\n",
            "conv2d (Conv2D)              (None, 26, 26, 32)        320       \n",
            "_________________________________________________________________\n",
            "max_pooling2d (MaxPooling2D) (None, 13, 13, 32)        0         \n",
            "_________________________________________________________________\n",
            "conv2d_1 (Conv2D)            (None, 11, 11, 64)        18496     \n",
            "_________________________________________________________________\n",
            "max_pooling2d_1 (MaxPooling2 (None, 5, 5, 64)          0         \n",
            "_________________________________________________________________\n",
            "flatten (Flatten)            (None, 1600)              0         \n",
            "_________________________________________________________________\n",
            "dropout (Dropout)            (None, 1600)              0         \n",
            "_________________________________________________________________\n",
            "dense (Dense)                (None, 10)                16010     \n",
            "=================================================================\n",
            "Total params: 34,826\n",
            "Trainable params: 34,826\n",
            "Non-trainable params: 0\n",
            "_________________________________________________________________\n",
            "Epoch 1/10\n",
            "422/422 [==============================] - 4s 9ms/step - loss: 0.3794 - accuracy: 0.8843 - val_loss: 0.0833 - val_accuracy: 0.9790\n",
            "Epoch 2/10\n",
            "422/422 [==============================] - 3s 8ms/step - loss: 0.1135 - accuracy: 0.9648 - val_loss: 0.0565 - val_accuracy: 0.9848\n",
            "Epoch 3/10\n",
            "422/422 [==============================] - 3s 8ms/step - loss: 0.0861 - accuracy: 0.9741 - val_loss: 0.0434 - val_accuracy: 0.9883\n",
            "Epoch 4/10\n",
            "422/422 [==============================] - 3s 8ms/step - loss: 0.0704 - accuracy: 0.9782 - val_loss: 0.0413 - val_accuracy: 0.9885\n",
            "Epoch 5/10\n",
            "422/422 [==============================] - 3s 8ms/step - loss: 0.0634 - accuracy: 0.9807 - val_loss: 0.0346 - val_accuracy: 0.9907\n",
            "Epoch 6/10\n",
            "422/422 [==============================] - 3s 8ms/step - loss: 0.0556 - accuracy: 0.9825 - val_loss: 0.0349 - val_accuracy: 0.9903\n",
            "Epoch 7/10\n",
            "422/422 [==============================] - 3s 8ms/step - loss: 0.0510 - accuracy: 0.9838 - val_loss: 0.0367 - val_accuracy: 0.9900\n",
            "Epoch 8/10\n",
            "422/422 [==============================] - 3s 8ms/step - loss: 0.0495 - accuracy: 0.9843 - val_loss: 0.0344 - val_accuracy: 0.9907\n",
            "Epoch 9/10\n",
            "422/422 [==============================] - 3s 8ms/step - loss: 0.0455 - accuracy: 0.9856 - val_loss: 0.0319 - val_accuracy: 0.9903\n",
            "Epoch 10/10\n",
            "422/422 [==============================] - 3s 8ms/step - loss: 0.0414 - accuracy: 0.9871 - val_loss: 0.0298 - val_accuracy: 0.9918\n",
            "Test loss: 0.029914841055870056\n",
            "Test accuracy: 0.9894999861717224\n"
          ],
          "name": "stdout"
        }
      ]
    },
    {
      "cell_type": "markdown",
      "metadata": {
        "id": "FwfkAOeEDfr_"
      },
      "source": [
        "# Load and eval best.h5 model"
      ]
    },
    {
      "cell_type": "code",
      "metadata": {
        "id": "oXOnOTUQDJwr",
        "outputId": "6202fa39-3fc6-41e2-f577-1204657e00e2",
        "colab": {
          "base_uri": "https://localhost:8080/",
          "height": 51
        }
      },
      "source": [
        "# best models\n",
        "model = tensorflow.keras.models.load_model(checkpoint_filepath)\n",
        "\n",
        "# eval\n",
        "score = model.evaluate(x_test, y_test, verbose=0)\n",
        "print(\"Test loss:\", score[0])\n",
        "print(\"Test accuracy:\", score[1])"
      ],
      "execution_count": 4,
      "outputs": [
        {
          "output_type": "stream",
          "text": [
            "Test loss: 0.029914841055870056\n",
            "Test accuracy: 0.9894999861717224\n"
          ],
          "name": "stdout"
        }
      ]
    },
    {
      "cell_type": "code",
      "metadata": {
        "id": "L8gXaGUhHZ3a",
        "outputId": "abec2137-b815-4593-a3ee-9f142e7c3b33",
        "colab": {
          "base_uri": "https://localhost:8080/",
          "height": 417
        }
      },
      "source": [
        "# a. get random image\n",
        "digit_image, digit_idx = get_and_plot_random_image_from(x_test, y_test)\n",
        "\n",
        "# b. loop inference for avg. inference time\n",
        "(_, keras_prbs_40it), keras_time_40it = infer_w_raw_h5(digit_image, expected_label=y_test[digit_idx],\n",
        "                                                              model=model, input_shape=input_shape)\n",
        "\n",
        "# SUGGESTION: For more control, as this is for single, image, \n",
        "# Go one step further by putiing the above two functions \n",
        "# in loop as well and take average"
      ],
      "execution_count": 5,
      "outputs": [
        {
          "output_type": "display_data",
          "data": {
            "image/png": "[encoded data removed]",
            "text/plain": [
              "<Figure size 432x288 with 1 Axes>"
            ]
          },
          "metadata": {
            "tags": [],
            "needs_background": "light"
          }
        },
        {
          "output_type": "stream",
          "text": [
            "Keras inferences with 0.0415363073348999 second in average\n",
            "============================================================\n",
            "Prediction probabilities:\n",
            "[[2.4790088e-08 1.3183645e-06 4.4287890e-07 4.1017855e-05 5.7662021e-07\n",
            "  2.5935281e-06 4.8100645e-11 9.9991345e-01 3.8079608e-05 2.4827425e-06]]\n",
            "============================================================\n",
            "Predicted value: 7\n",
            "Correct prediction\n"
          ],
          "name": "stdout"
        }
      ]
    },
    {
      "cell_type": "markdown",
      "metadata": {
        "id": "RI36w9_PJaqP"
      },
      "source": [
        "# Conversion from Keras to ONNX\n"
      ]
    },
    {
      "cell_type": "code",
      "metadata": {
        "id": "1pJG8tvOJeE2",
        "outputId": "50225250-2685-4b1f-d2ef-30f76d0abcba",
        "colab": {
          "base_uri": "https://localhost:8080/",
          "height": 1000
        }
      },
      "source": [
        "h52onnx(model, \"./keras-mnist-optimized.onnx\") # saves in curdir"
      ],
      "execution_count": 6,
      "outputs": [
        {
          "output_type": "stream",
          "text": [
            "tf executing eager_mode: True\n",
            "tf.keras model eager_mode: False\n",
            "Processing a keras layer - (dense: <class 'tensorflow.python.keras.layers.core.Dense'>)\n",
            "\toutput: dense/Softmax_1:0\n",
            "\tinput : dropout/cond_1/Identity:0\n",
            "Processing a keras layer - (dropout: <class 'tensorflow.python.keras.layers.core.Dropout'>)\n",
            "\toutput: dropout/cond_1/Identity:0\n",
            "\tinput : flatten/Reshape_1:0\n",
            "Processing a keras layer - (flatten: <class 'tensorflow.python.keras.layers.core.Flatten'>)\n",
            "\toutput: flatten/Reshape_1:0\n",
            "\tinput : max_pooling2d_1/MaxPool_1:0\n",
            "Processing a keras layer - (max_pooling2d_1: <class 'tensorflow.python.keras.layers.pooling.MaxPooling2D'>)\n",
            "\toutput: max_pooling2d_1/MaxPool_1:0\n",
            "\tinput : conv2d_1/Relu_1:0\n",
            "Processing a keras layer - (conv2d_1: <class 'tensorflow.python.keras.layers.convolutional.Conv2D'>)\n",
            "\toutput: conv2d_1/Relu_1:0\n",
            "\tinput : max_pooling2d/MaxPool_1:0\n",
            "Processing a keras layer - (max_pooling2d: <class 'tensorflow.python.keras.layers.pooling.MaxPooling2D'>)\n",
            "\toutput: max_pooling2d/MaxPool_1:0\n",
            "\tinput : conv2d/Relu_1:0\n",
            "Processing a keras layer - (conv2d: <class 'tensorflow.python.keras.layers.convolutional.Conv2D'>)\n",
            "\toutput: conv2d/Relu_1:0\n",
            "\tinput : input_1_1:0\n",
            "var: input_1\n",
            "var: input_1_1:0\n",
            "var: input_1_1:01\n",
            "var: conv2d/Relu_1:0\n",
            "var: max_pooling2d/MaxPool_1:0\n",
            "var: conv2d_1/Relu_1:0\n",
            "var: max_pooling2d_1/MaxPool_1:0\n",
            "var: flatten/Reshape_1:0\n",
            "var: dropout/cond_1/Identity:0\n",
            "var: dense/Softmax_1:01\n",
            "var: dense/Softmax_1:0\n",
            "var: dense\n",
            "Converting the operator (Identity): Identity\n",
            "Converting the operator (Identity1): Identity\n",
            "Converting the operator (Identity2): Identity\n",
            "Converting the operator (dense): <class 'tensorflow.python.keras.layers.core.Dense'>\n",
            "Converting the operator (dropout): <class 'tensorflow.python.keras.layers.core.Dropout'>\n",
            "Converting the operator (keras_learning_phase/input): Const\n",
            "Converting the operator (flatten): <class 'tensorflow.python.keras.layers.core.Flatten'>\n",
            "Converting the operator (flatten/Const_1): Const\n",
            "Converting the operator (max_pooling2d_1): <class 'tensorflow.python.keras.layers.pooling.MaxPooling2D'>\n",
            "Converting the operator (conv2d_1): <class 'tensorflow.python.keras.layers.convolutional.Conv2D'>\n",
            "Converting the operator (max_pooling2d): <class 'tensorflow.python.keras.layers.pooling.MaxPooling2D'>\n",
            "Converting the operator (conv2d): <class 'tensorflow.python.keras.layers.convolutional.Conv2D'>\n",
            "Converting the operator (Identity3): Identity\n"
          ],
          "name": "stderr"
        },
        {
          "output_type": "stream",
          "text": [
            "keras2onnx version is 1.7.1\n",
            "keras-mnist-optimized\n",
            "Model: \"sequential\"\n",
            "_________________________________________________________________\n",
            "Layer (type)                 Output Shape              Param #   \n",
            "=================================================================\n",
            "conv2d (Conv2D)              (None, 26, 26, 32)        320       \n",
            "_________________________________________________________________\n",
            "max_pooling2d (MaxPooling2D) (None, 13, 13, 32)        0         \n",
            "_________________________________________________________________\n",
            "conv2d_1 (Conv2D)            (None, 11, 11, 64)        18496     \n",
            "_________________________________________________________________\n",
            "max_pooling2d_1 (MaxPooling2 (None, 5, 5, 64)          0         \n",
            "_________________________________________________________________\n",
            "flatten (Flatten)            (None, 1600)              0         \n",
            "_________________________________________________________________\n",
            "dropout (Dropout)            (None, 1600)              0         \n",
            "_________________________________________________________________\n",
            "dense (Dense)                (None, 10)                16010     \n",
            "=================================================================\n",
            "Total params: 34,826\n",
            "Trainable params: 34,826\n",
            "Non-trainable params: 0\n",
            "_________________________________________________________________\n",
            "None\n"
          ],
          "name": "stdout"
        }
      ]
    },
    {
      "cell_type": "markdown",
      "metadata": {
        "id": "o8UkDSbKJxIJ"
      },
      "source": [
        "# Evaluate the ONNX's Model Performance"
      ]
    },
    {
      "cell_type": "code",
      "metadata": {
        "id": "xOgM8jEvjY02",
        "outputId": "5dd92fe0-791d-4631-9e3c-10e1b9d213c7",
        "colab": {
          "base_uri": "https://localhost:8080/",
          "height": 153
        }
      },
      "source": [
        "(_, onnxs_prbs_40it), onnx_time_40it = infer_w_onnx_runtime(digit_image, expected_label=y_test[digit_idx], \n",
        "                                                              input_shape=input_shape,\n",
        "                                                              output_onnxmodel_path='./keras-mnist-optimized.onnx') # same path as used above to load"
      ],
      "execution_count": 7,
      "outputs": [
        {
          "output_type": "stream",
          "text": [
            "ONNX inferences with 0.0017925798892974854 second in average\n",
            "============================================================\n",
            "[onnx]Prediction probabilities:\n",
            "[[2.4790136e-08 1.3183620e-06 4.4287893e-07 4.1017815e-05 5.7661913e-07\n",
            "  2.5935233e-06 4.8100555e-11 9.9991345e-01 3.8079575e-05 2.4827402e-06]]\n",
            "============================================================\n",
            "ONNX predicted value: 7\n",
            "Correct prediction\n"
          ],
          "name": "stdout"
        }
      ]
    },
    {
      "cell_type": "markdown",
      "metadata": {
        "id": "Y47Ac50ys2eN"
      },
      "source": [
        "# Comaprision of inference time and model size"
      ]
    },
    {
      "cell_type": "code",
      "metadata": {
        "id": "msJMtblfs74C",
        "outputId": "e7a14da9-eaa0-42d2-d081-c8995af930c2",
        "colab": {
          "base_uri": "https://localhost:8080/",
          "height": 661
        }
      },
      "source": [
        "plt.figure(figsize=(5, 10))\n",
        "sns.color_palette(\"husl\", 8)\n",
        "sns.barplot(\n",
        "    [\"raw keras\", \"onnx\"],\n",
        "    [keras_time_40it, onnx_time_40it],\n",
        ")\n",
        "\n",
        "plt.title(f\"ratio: {keras_time_40it/onnx_time_40it}\")\n",
        "plt.show()"
      ],
      "execution_count": 8,
      "outputs": [
        {
          "output_type": "stream",
          "text": [
            "/usr/local/lib/python3.6/dist-packages/seaborn/_decorators.py:43: FutureWarning: Pass the following variables as keyword args: x, y. From version 0.12, the only valid positional argument will be `data`, and passing other arguments without an explicit keyword will result in an error or misinterpretation.\n",
            "  FutureWarning\n"
          ],
          "name": "stderr"
        },
        {
          "output_type": "display_data",
          "data": {
            "image/png": "[encoded data removed]",
            "text/plain": [
              "<Figure size 360x720 with 1 Axes>"
            ]
          },
          "metadata": {
            "tags": [],
            "needs_background": "light"
          }
        }
      ]
    },
    {
      "cell_type": "code",
      "metadata": {
        "id": "onzQ8cGoyQL6",
        "outputId": "7b8e99d8-17cf-4c16-eeec-10da42932456",
        "colab": {
          "base_uri": "https://localhost:8080/",
          "height": 85
        }
      },
      "source": [
        "print(onnxs_prbs_40it)\n",
        "print(keras_prbs_40it)\n",
        "\n",
        "# Note no change in prediction probabs"
      ],
      "execution_count": 9,
      "outputs": [
        {
          "output_type": "stream",
          "text": [
            "[[2.4790136e-08 1.3183620e-06 4.4287893e-07 4.1017815e-05 5.7661913e-07\n",
            "  2.5935233e-06 4.8100555e-11 9.9991345e-01 3.8079575e-05 2.4827402e-06]]\n",
            "[[2.4790088e-08 1.3183645e-06 4.4287890e-07 4.1017855e-05 5.7662021e-07\n",
            "  2.5935281e-06 4.8100645e-11 9.9991345e-01 3.8079608e-05 2.4827425e-06]]\n"
          ],
          "name": "stdout"
        }
      ]
    },
    {
      "cell_type": "code",
      "metadata": {
        "id": "sWDBSU1ge-aW",
        "outputId": "73583535-46c8-4c3a-abc4-c9dbe0c5f9bf",
        "colab": {
          "base_uri": "https://localhost:8080/",
          "height": 51
        }
      },
      "source": [
        "def get_size(model_file_path='saved_model.pb'):\n",
        "  size = os.path.getsize(model_file_path)\n",
        "  return round(size/(1024.0),3)\n",
        "\n",
        "print(\"Raw keras .h5 \\t:\", get_size('keras_saved_model/model.h5'), \"KB\")\n",
        "print(\"onnx optimized \\t:\", get_size('keras-mnist-optimized.onnx'), \"KB\")"
      ],
      "execution_count": 10,
      "outputs": [
        {
          "output_type": "stream",
          "text": [
            "Raw keras .h5 \t: 443.758 KB\n",
            "onnx optimized \t: 138.607 KB\n"
          ],
          "name": "stdout"
        }
      ]
    },
    {
      "cell_type": "markdown",
      "metadata": {
        "id": "anWanNmmgig_"
      },
      "source": [
        "- No change in number of parameters\n",
        "- No change is prediction probabilities\n",
        "- Speed increased by **50 times**\n",
        "- Size decreased by **3 times** "
      ]
    },
    {
      "cell_type": "markdown",
      "metadata": {
        "id": "PLQ-XaltqxQx"
      },
      "source": [
        "# **Part 2:** Let's Get Heavy\n",
        "\n",
        "- Pretrained EfficientNet"
      ]
    },
    {
      "cell_type": "code",
      "metadata": {
        "id": "FFJMWmkMvMBp",
        "outputId": "368bb30e-ad6b-49b5-99dd-6b3b74fc0eaf",
        "colab": {
          "base_uri": "https://localhost:8080/",
          "height": 564
        }
      },
      "source": [
        "!pip install -U git+https://github.com/qubvel/efficientnet\n",
        "!curl -O https://github.com/rakesh4real/Applied-Machine-Learning/blob/master/Resources/hosted/dog.jpg"
      ],
      "execution_count": 15,
      "outputs": [
        {
          "output_type": "stream",
          "text": [
            "Collecting git+https://github.com/qubvel/efficientnet\n",
            "  Cloning https://github.com/qubvel/efficientnet to /tmp/pip-req-build-ckuo38u_\n",
            "  Running command git clone -q https://github.com/qubvel/efficientnet /tmp/pip-req-build-ckuo38u_\n",
            "Collecting keras_applications<=1.0.8,>=1.0.7\n",
            "\u001b[?25l  Downloading https://files.pythonhosted.org/packages/71/e3/19762fdfc62877ae9102edf6342d71b28fbfd9dea3d2f96a882ce099b03f/Keras_Applications-1.0.8-py3-none-any.whl (50kB)\n",
            "\u001b[K     |████████████████████████████████| 51kB 1.5MB/s \n",
            "\u001b[?25hRequirement already satisfied, skipping upgrade: scikit-image in /usr/local/lib/python3.6/dist-packages (from efficientnet==1.1.1) (0.16.2)\n",
            "Requirement already satisfied, skipping upgrade: numpy>=1.9.1 in /usr/local/lib/python3.6/dist-packages (from keras_applications<=1.0.8,>=1.0.7->efficientnet==1.1.1) (1.18.5)\n",
            "Requirement already satisfied, skipping upgrade: h5py in /usr/local/lib/python3.6/dist-packages (from keras_applications<=1.0.8,>=1.0.7->efficientnet==1.1.1) (2.10.0)\n",
            "Requirement already satisfied, skipping upgrade: networkx>=2.0 in /usr/local/lib/python3.6/dist-packages (from scikit-image->efficientnet==1.1.1) (2.5)\n",
            "Requirement already satisfied, skipping upgrade: PyWavelets>=0.4.0 in /usr/local/lib/python3.6/dist-packages (from scikit-image->efficientnet==1.1.1) (1.1.1)\n",
            "Requirement already satisfied, skipping upgrade: pillow>=4.3.0 in /usr/local/lib/python3.6/dist-packages (from scikit-image->efficientnet==1.1.1) (7.0.0)\n",
            "Requirement already satisfied, skipping upgrade: imageio>=2.3.0 in /usr/local/lib/python3.6/dist-packages (from scikit-image->efficientnet==1.1.1) (2.4.1)\n",
            "Requirement already satisfied, skipping upgrade: matplotlib!=3.0.0,>=2.0.0 in /usr/local/lib/python3.6/dist-packages (from scikit-image->efficientnet==1.1.1) (3.2.2)\n",
            "Requirement already satisfied, skipping upgrade: scipy>=0.19.0 in /usr/local/lib/python3.6/dist-packages (from scikit-image->efficientnet==1.1.1) (1.4.1)\n",
            "Requirement already satisfied, skipping upgrade: six in /usr/local/lib/python3.6/dist-packages (from h5py->keras_applications<=1.0.8,>=1.0.7->efficientnet==1.1.1) (1.15.0)\n",
            "Requirement already satisfied, skipping upgrade: decorator>=4.3.0 in /usr/local/lib/python3.6/dist-packages (from networkx>=2.0->scikit-image->efficientnet==1.1.1) (4.4.2)\n",
            "Requirement already satisfied, skipping upgrade: cycler>=0.10 in /usr/local/lib/python3.6/dist-packages (from matplotlib!=3.0.0,>=2.0.0->scikit-image->efficientnet==1.1.1) (0.10.0)\n",
            "Requirement already satisfied, skipping upgrade: python-dateutil>=2.1 in /usr/local/lib/python3.6/dist-packages (from matplotlib!=3.0.0,>=2.0.0->scikit-image->efficientnet==1.1.1) (2.8.1)\n",
            "Requirement already satisfied, skipping upgrade: pyparsing!=2.0.4,!=2.1.2,!=2.1.6,>=2.0.1 in /usr/local/lib/python3.6/dist-packages (from matplotlib!=3.0.0,>=2.0.0->scikit-image->efficientnet==1.1.1) (2.4.7)\n",
            "Requirement already satisfied, skipping upgrade: kiwisolver>=1.0.1 in /usr/local/lib/python3.6/dist-packages (from matplotlib!=3.0.0,>=2.0.0->scikit-image->efficientnet==1.1.1) (1.2.0)\n",
            "Building wheels for collected packages: efficientnet\n",
            "  Building wheel for efficientnet (setup.py) ... \u001b[?25l\u001b[?25hdone\n",
            "  Created wheel for efficientnet: filename=efficientnet-1.1.1-cp36-none-any.whl size=18421 sha256=c8ef0ca68de557d0a810f4301ad622db0f1dbb53dce2e6e623731b8337bf9a3e\n",
            "  Stored in directory: /tmp/pip-ephem-wheel-cache-6ld72n6h/wheels/64/60/2e/30ebaa76ed1626e86bfb0cc0579b737fdb7d9ff8cb9522663a\n",
            "Successfully built efficientnet\n",
            "Installing collected packages: keras-applications, efficientnet\n",
            "Successfully installed efficientnet-1.1.1 keras-applications-1.0.8\n",
            "  % Total    % Received % Xferd  Average Speed   Time    Time     Time  Current\n",
            "                                 Dload  Upload   Total   Spent    Left  Speed\n",
            "100 82628    0 82628    0     0   209k      0 --:--:-- --:--:-- --:--:--  209k\n"
          ],
          "name": "stdout"
        }
      ]
    },
    {
      "cell_type": "code",
      "metadata": {
        "id": "YpnzbQT5vlYO"
      },
      "source": [
        "import numpy as np\n",
        "import efficientnet.tfkeras as efn\n",
        "from tensorflow.keras.applications.imagenet_utils import decode_predictions, preprocess_input\n",
        "from efficientnet.preprocessing import center_crop_and_resize\n",
        "from skimage.io import imread"
      ],
      "execution_count": 16,
      "outputs": []
    },
    {
      "cell_type": "code",
      "metadata": {
        "id": "BwIz9cLfvv6k",
        "outputId": "49eb72d9-b9cc-4832-c699-a31f35c7e6a8",
        "colab": {
          "base_uri": "https://localhost:8080/",
          "height": 71
        }
      },
      "source": [
        "model = efn.EfficientNetB0(weights='imagenet')"
      ],
      "execution_count": 17,
      "outputs": [
        {
          "output_type": "stream",
          "text": [
            "Downloading data from https://github.com/Callidior/keras-applications/releases/download/efficientnet/efficientnet-b0_weights_tf_dim_ordering_tf_kernels_autoaugment.h5\n",
            "21831680/21826536 [==============================] - 1s 0us/step\n"
          ],
          "name": "stdout"
        }
      ]
    },
    {
      "cell_type": "code",
      "metadata": {
        "id": "JMuZAd4OwXLv",
        "outputId": "4e076e70-ba8c-4dfa-bb30-d3613bd0ac1d",
        "colab": {
          "base_uri": "https://localhost:8080/",
          "height": 34
        }
      },
      "source": [
        "print(cv2.imread('cat.jpg', 1))"
      ],
      "execution_count": 27,
      "outputs": [
        {
          "output_type": "stream",
          "text": [
            "None\n"
          ],
          "name": "stdout"
        }
      ]
    },
    {
      "cell_type": "code",
      "metadata": {
        "id": "12O7QEMqvwwt",
        "outputId": "3e459839-8265-4a83-ec3f-a93cfc62d5de",
        "colab": {
          "base_uri": "https://localhost:8080/",
          "height": 232
        }
      },
      "source": [
        "import matplotlib.pyplot as plt\n",
        "import cv2\n",
        "\n",
        "image = cv2.imread('./cat.jpg')\n",
        "print(image.shape)\n",
        "\n",
        "image_size = model.input_shape[1]\n",
        "plt.imshow(image, interpolation='nearest')\n",
        "plt.show()\n",
        "x = center_crop_and_resize(image, image_size=image_size)\n",
        "\n",
        "x = preprocess_input(x, mode='torch')\n",
        "inputs = np.expand_dims(x, 0)\n",
        "expected = model.predict(inputs)\n",
        "decode_predictions(expected)"
      ],
      "execution_count": 23,
      "outputs": [
        {
          "output_type": "error",
          "ename": "AttributeError",
          "evalue": "ignored",
          "traceback": [
            "\u001b[0;31m---------------------------------------------------------------------------\u001b[0m",
            "\u001b[0;31mAttributeError\u001b[0m                            Traceback (most recent call last)",
            "\u001b[0;32m<ipython-input-23-21fef0a93585>\u001b[0m in \u001b[0;36m<module>\u001b[0;34m()\u001b[0m\n\u001b[1;32m      3\u001b[0m \u001b[0;34m\u001b[0m\u001b[0m\n\u001b[1;32m      4\u001b[0m \u001b[0mimage\u001b[0m \u001b[0;34m=\u001b[0m \u001b[0mcv2\u001b[0m\u001b[0;34m.\u001b[0m\u001b[0mimread\u001b[0m\u001b[0;34m(\u001b[0m\u001b[0;34m'./cat.jpg'\u001b[0m\u001b[0;34m)\u001b[0m\u001b[0;34m\u001b[0m\u001b[0;34m\u001b[0m\u001b[0m\n\u001b[0;32m----> 5\u001b[0;31m \u001b[0mprint\u001b[0m\u001b[0;34m(\u001b[0m\u001b[0mimage\u001b[0m\u001b[0;34m.\u001b[0m\u001b[0mshape\u001b[0m\u001b[0;34m)\u001b[0m\u001b[0;34m\u001b[0m\u001b[0;34m\u001b[0m\u001b[0m\n\u001b[0m\u001b[1;32m      6\u001b[0m \u001b[0;34m\u001b[0m\u001b[0m\n\u001b[1;32m      7\u001b[0m \u001b[0mimage_size\u001b[0m \u001b[0;34m=\u001b[0m \u001b[0mmodel\u001b[0m\u001b[0;34m.\u001b[0m\u001b[0minput_shape\u001b[0m\u001b[0;34m[\u001b[0m\u001b[0;36m1\u001b[0m\u001b[0;34m]\u001b[0m\u001b[0;34m\u001b[0m\u001b[0;34m\u001b[0m\u001b[0m\n",
            "\u001b[0;31mAttributeError\u001b[0m: 'NoneType' object has no attribute 'shape'"
          ]
        }
      ]
    },
    {
      "cell_type": "code",
      "metadata": {
        "id": "yRZ21CIvv3Nc"
      },
      "source": [
        ""
      ],
      "execution_count": null,
      "outputs": []
    }
  ]
}